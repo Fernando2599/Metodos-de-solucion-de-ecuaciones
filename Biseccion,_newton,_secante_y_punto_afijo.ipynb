{
  "nbformat": 4,
  "nbformat_minor": 0,
  "metadata": {
    "colab": {
      "name": "Biseccion, newton, secante y punto afijo",
      "provenance": [],
      "collapsed_sections": []
    },
    "kernelspec": {
      "name": "python3",
      "display_name": "Python 3"
    },
    "language_info": {
      "name": "python"
    }
  },
  "cells": [
    {
      "cell_type": "code",
      "execution_count": null,
      "metadata": {
        "id": "rJTsF6XbqNAc"
      },
      "outputs": [],
      "source": [
        ""
      ]
    },
    {
      "cell_type": "markdown",
      "source": [
        "METODO BISECCION"
      ],
      "metadata": {
        "id": "f-93ccE6qeA-"
      }
    },
    {
      "cell_type": "code",
      "source": [
        "import math\n",
        "\n",
        "def fxi(xi):\n",
        "    #E4return math.tan(xi)-0.1*(xi)\n",
        "    #E5return math.pow(xi,4)-2*math.pow(xi,3)-4*math.pow(xi,2)+4\n",
        "    return math.tan(xi)    \n",
        "    #return math.po(xi,3)+4*math.pow(xi,2)-10\n",
        "\n",
        "def fxr(xr):\n",
        "    #E4return math.tan(xr)-0.1*(xr)\n",
        "    #E5return math.pow(xr,4)-2*math.pow(xr,3)-4*math.pow(xr,2)+4\n",
        "    return math.tan(xr)\n",
        "    #return math.pow(xr,3)+4*math.pow(xr,2)-10\n",
        "\n",
        "def fxrporfxi(xi,xr):\n",
        "    return fxr(xr)*fxi(xi)\n",
        "\n",
        "def errorabsoluto(xactual,xanterior):\n",
        "    if xactual!=0:\n",
        "        return abs(((xactual-xanterior)/xactual))\n",
        "    else:\n",
        "        return 1.0"
      ],
      "metadata": {
        "id": "tlVeXm51qwNJ"
      },
      "execution_count": null,
      "outputs": []
    },
    {
      "cell_type": "code",
      "source": [
        "def biseccion(xi,xs,cota,iteraciones):\n",
        "    error=1\n",
        "    if fxrporfxi(xi,xs)<0:\n",
        "        while error>cota:\n",
        "            xr=(xi+xs)/2\n",
        "            error=errorabsoluto(xr,xi)\n",
        "            if error>cota:\n",
        "                print (\"Raiz: \",xr,\"Error: \",error)\n",
        "            if fxrporfxi(xi,xr)<0:\n",
        "                xs=xr\n",
        "            if fxrporfxi(xi,xr)>0:\n",
        "                xi=xr\n",
        "            if fxrporfxi(xi,xr)==0:\n",
        "                error=cota\n",
        "    else:\n",
        "        print(\"No hay raiz en ese intevalo.\")"
      ],
      "metadata": {
        "id": "5qStXSW0rZcm"
      },
      "execution_count": null,
      "outputs": []
    },
    {
      "cell_type": "code",
      "source": [
        "biseccion(4,4.5,0.001,10)"
      ],
      "metadata": {
        "colab": {
          "base_uri": "https://localhost:8080/"
        },
        "id": "J_Alteihr_-j",
        "outputId": "b48ba5bd-ad89-430c-e492-ca5628bb7530"
      },
      "execution_count": null,
      "outputs": [
        {
          "output_type": "stream",
          "name": "stdout",
          "text": [
            "No hay raiz en ese intevalo.\n"
          ]
        }
      ]
    },
    {
      "cell_type": "markdown",
      "source": [
        "METODO DE NEWTON RAPHSON"
      ],
      "metadata": {
        "id": "QMLjhaFLsI5V"
      }
    },
    {
      "cell_type": "code",
      "source": [
        "import math\n",
        "def fx(x):\n",
        "    #valor8= 2*math.sin(math.pi*x)+x\n",
        "    #valor9= math.pow(x,2)-6\n",
        "    #valor10= -math.pow(x,3)-math.cos(x)\n",
        "    valorT= 8*math.exp(-0.5*x)*math.cos(3*x)-4\n",
        "    \n",
        "    return valorT\n",
        "\n",
        "def derivadafx(x):\n",
        "    #derivada8= (2*math.pi)*(math.cos(math.pi*x))+1\n",
        "    #derivada9= 2*x\n",
        "    #derivada10= -3*math.pow(x,2)+math.sin(x)\n",
        "    derivadaT= -4*math.exp(-0.5*x)*math.cos(3*x)-24*math.exp(3*x)*math.sin(-0.5*x)\n",
        "    return derivadaT\n",
        "\n",
        "def errorabsoluto(xactual,xanterior):\n",
        "    return abs((xactual-xanterior)/xactual)"
      ],
      "metadata": {
        "id": "crmU8R8-sVF0"
      },
      "execution_count": null,
      "outputs": []
    },
    {
      "cell_type": "code",
      "source": [
        "def newton(x,cota,iteraciones):\n",
        "    error=1\n",
        "    while error>cota:\n",
        "        xactual=x-(fx(x)/derivadafx(x))\n",
        "        error=errorabsoluto(xactual,x)\n",
        "        x=xactual\n",
        "        if error>=cota:\n",
        "          print(\"Raiz: \",xactual,\" Error: \",error)"
      ],
      "metadata": {
        "id": "Nj9uyU1qtPa9"
      },
      "execution_count": null,
      "outputs": []
    },
    {
      "cell_type": "code",
      "source": [
        "newton(0.01,0.01,10)"
      ],
      "metadata": {
        "id": "l5uKxF47tSa9",
        "colab": {
          "base_uri": "https://localhost:8080/"
        },
        "outputId": "ffe53bf6-cec8-442e-e2cc-a19c664b32f3"
      },
      "execution_count": null,
      "outputs": [
        {
          "output_type": "stream",
          "name": "stdout",
          "text": [
            "Raiz:  1.0364392998723275  Error:  0.9903515816109715\n",
            "Raiz:  1.0690437414731246  Error:  0.03049869742080781\n",
            "Raiz:  1.0975481463750452  Error:  0.025970983592896735\n",
            "Raiz:  1.1228071764882324  Error:  0.022496320509981998\n",
            "Raiz:  1.1454410824174301  Error:  0.01975999139251177\n",
            "Raiz:  1.165912544736805  Error:  0.017558317226954764\n",
            "Raiz:  1.1845749339232639  Error:  0.01575450286175626\n",
            "Raiz:  1.2017036694992929  Error:  0.014253709970916493\n",
            "Raiz:  1.217517227341793  Error:  0.012988364753594338\n",
            "Raiz:  1.2321915978362938  Error:  0.011909162925854113\n",
            "Raiz:  1.2458704778420098  Error:  0.01097937566464318\n",
            "Raiz:  1.258672609836404  Error:  0.010171137350846333\n"
          ]
        }
      ]
    },
    {
      "cell_type": "markdown",
      "source": [
        "METODO DE SECANTE"
      ],
      "metadata": {
        "id": "A2IH4uT3tXPK"
      }
    },
    {
      "cell_type": "code",
      "source": [
        "import math\n",
        "\n",
        "def fxsecan(x):\n",
        "    #valor11= -math.pow(x,3)-math.cos(x)\n",
        "    valor12= math.tan(math.pi*x)-6\n",
        "    return valor12\n",
        "\n",
        "def errorabsoluto(xactual,xanterior):\n",
        "    return abs(((xactual-xanterior)/xactual))"
      ],
      "metadata": {
        "id": "8L3telIPtaIU"
      },
      "execution_count": null,
      "outputs": []
    },
    {
      "cell_type": "code",
      "source": [
        "def secante(xo,xi,cota,iteraciones):\n",
        "    error=1\n",
        "    while error>cota:\n",
        "        xactual=xi-((fxsecan(xi)*(xo-xi))/(fxsecan(xo)-fxsecan(xi)))\n",
        "        error=errorabsoluto(xactual,xi)\n",
        "        xo=xi\n",
        "        xi=xactual\n",
        "        if error>=cota:\n",
        "            print (\"Raiz: \",xactual,\" Error: \",error)"
      ],
      "metadata": {
        "id": "T3z-K2f0tkCy"
      },
      "execution_count": null,
      "outputs": []
    },
    {
      "cell_type": "code",
      "source": [
        "secante(0,0.44,0.001,10)"
      ],
      "metadata": {
        "id": "9cobhlautmdX",
        "colab": {
          "base_uri": "https://localhost:8080/"
        },
        "outputId": "de4aed96-3aff-498d-9a96-4e4e770547d0"
      },
      "execution_count": null,
      "outputs": [
        {
          "output_type": "stream",
          "name": "stdout",
          "text": [
            "Raiz:  0.5036069338570165  Error:  0.12630273648113768\n",
            "Raiz:  0.43948439950566454  Error:  0.1459040057473655\n",
            "Raiz:  0.43893297394524  Error:  0.0012562864791591816\n",
            "Raiz:  0.44870069356378817  Error:  0.02176889797287458\n",
            "Raiz:  0.44722848204022314  Error:  0.003291855466916834\n"
          ]
        }
      ]
    },
    {
      "cell_type": "markdown",
      "source": [
        "METODO APROXIMACIONES SUCESIVAS O PUNTO AFIJO"
      ],
      "metadata": {
        "id": "SRCj7IrQKfxJ"
      }
    },
    {
      "cell_type": "code",
      "source": [
        "import math\n",
        "def fx(x):\n",
        "    \n",
        "    #E7\n",
        "    return math.pow(3*(math.pow(x,2))+3,1/4)\n",
        "    \n",
        "    #return math.exp(-x)\n",
        "\n",
        "def errorabsoluto(xactual,xanterior):\n",
        "    return abs(((xactual-xanterior)/xactual))"
      ],
      "metadata": {
        "id": "XKR_CFBhKquH"
      },
      "execution_count": null,
      "outputs": []
    },
    {
      "cell_type": "code",
      "source": [
        "import math\n",
        "\n",
        "def punto_fijo(x,cota,iteraciones):\n",
        "    error=1\n",
        "    while error>cota:\n",
        "        xactual=fx(x)\n",
        "        error=errorabsoluto(xactual,x)\n",
        "        x=xactual\n",
        "        if error>=cota:\n",
        "            print (\"Raiz: \",xactual,\" Error: \",error)"
      ],
      "metadata": {
        "id": "R3sO6eAaKt5K"
      },
      "execution_count": null,
      "outputs": []
    },
    {
      "cell_type": "code",
      "source": [
        "punto_fijo(1,0.001,10)"
      ],
      "metadata": {
        "colab": {
          "base_uri": "https://localhost:8080/"
        },
        "id": "PHjIDAxIKu4W",
        "outputId": "9ee3d51a-6085-4717-b31f-dd999a001eba"
      },
      "execution_count": null,
      "outputs": [
        {
          "output_type": "stream",
          "name": "stdout",
          "text": [
            "Raiz:  1.5650845800732873  Error:  0.3610568957537275\n",
            "Raiz:  1.79357287863573  Error:  0.12739281535983127\n",
            "Raiz:  1.8859437430173158  Error:  0.04897858948528446\n",
            "Raiz:  1.9228478439840826  Error:  0.019192418725291645\n",
            "Raiz:  1.9375075399574273  Error:  0.007566265251110624\n",
            "Raiz:  1.9433169298986768  Error:  0.002989419714236917\n",
            "Raiz:  1.9456168565210508  Error:  0.001182106648935229\n"
          ]
        }
      ]
    }
  ]
}